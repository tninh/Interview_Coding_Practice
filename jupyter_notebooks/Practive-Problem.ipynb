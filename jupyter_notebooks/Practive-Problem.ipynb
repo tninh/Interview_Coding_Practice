{
 "cells": [
  {
   "cell_type": "code",
   "execution_count": null,
   "metadata": {},
   "outputs": [],
   "source": [
    "import random\n",
    "def subList(L, N):\n",
    "    subList = []\n",
    "    for i in range(N):\n",
    "    "
   ]
  },
  {
   "cell_type": "code",
   "execution_count": null,
   "metadata": {},
   "outputs": [],
   "source": [
    "##[3, 4, 5, 6, 6, 7, 8]\n",
    "## N = 4"
   ]
  },
  {
   "cell_type": "code",
   "execution_count": 4,
   "metadata": {},
   "outputs": [],
   "source": [
    "import random\n",
    "def samples(n, k):\n",
    "    bins = [[] for i in range(k)]\n",
    "    for i in range(k):\n",
    "        x = random.randint(1,n)\n",
    "        bins[(x * k) // n].append(x)\n",
    "    result = []\n",
    "    for b in bins:\n",
    "        b.sort()\n",
    "        result.extend(b)\n",
    "    return result"
   ]
  },
  {
   "cell_type": "code",
   "execution_count": 6,
   "metadata": {},
   "outputs": [],
   "source": [
    "X = [1, 2, 3, 4, 5]\n"
   ]
  },
  {
   "cell_type": "code",
   "execution_count": 10,
   "metadata": {},
   "outputs": [],
   "source": [
    "random_index = random.randrange(0,len(X))"
   ]
  },
  {
   "cell_type": "code",
   "execution_count": 11,
   "metadata": {},
   "outputs": [
    {
     "data": {
      "text/plain": [
       "4"
      ]
     },
     "execution_count": 11,
     "metadata": {},
     "output_type": "execute_result"
    }
   ],
   "source": [
    "random_index"
   ]
  },
  {
   "cell_type": "code",
   "execution_count": null,
   "metadata": {},
   "outputs": [],
   "source": [
    "def subLists(X, n):\n",
    "#     N = len(X)\n",
    "#     A = []\n",
    "#     for i in range(1, N):\n",
    "#         A[i] = floor(rand * N) + 1\n",
    "#         cnt[A[i]]+=1\n",
    "\n",
    "#     for i in range(1, N):\n",
    "#       for j = 0 to cnt[i]\n",
    "#         Y.add(X[i])\n",
    "#           cnt[i] =0\n",
    "    sublist = []\n",
    "    random.choice(X)"
   ]
  }
 ],
 "metadata": {
  "kernelspec": {
   "display_name": "Python 2",
   "language": "python",
   "name": "python2"
  },
  "language_info": {
   "codemirror_mode": {
    "name": "ipython",
    "version": 2
   },
   "file_extension": ".py",
   "mimetype": "text/x-python",
   "name": "python",
   "nbconvert_exporter": "python",
   "pygments_lexer": "ipython2",
   "version": "2.7.15"
  }
 },
 "nbformat": 4,
 "nbformat_minor": 2
}
