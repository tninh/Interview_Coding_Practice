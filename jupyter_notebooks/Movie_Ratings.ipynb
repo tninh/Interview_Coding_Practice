{
 "cells": [
  {
   "cell_type": "code",
   "execution_count": 2,
   "metadata": {},
   "outputs": [],
   "source": [
    "L = [('abc',10),('def',15),('ghi',10),('abc', 12),('xyz',100)]\n",
    "def top10(L):\n",
    "    L.sort(key = lambda x:x[1], reverse=True)\n",
    "    print(\"Sorted by Value Descending\", [i for i, _ in L[:10]])"
   ]
  },
  {
   "cell_type": "code",
   "execution_count": 3,
   "metadata": {},
   "outputs": [
    {
     "name": "stdout",
     "output_type": "stream",
     "text": [
      "('Sorted by Value Descending', ['xyz', 'def', 'abc', 'abc', 'ghi'])\n"
     ]
    }
   ],
   "source": [
    "top10(L)"
   ]
  },
  {
   "cell_type": "code",
   "execution_count": null,
   "metadata": {},
   "outputs": [],
   "source": []
  }
 ],
 "metadata": {
  "kernelspec": {
   "display_name": "Python 2",
   "language": "python",
   "name": "python2"
  },
  "language_info": {
   "codemirror_mode": {
    "name": "ipython",
    "version": 2
   },
   "file_extension": ".py",
   "mimetype": "text/x-python",
   "name": "python",
   "nbconvert_exporter": "python",
   "pygments_lexer": "ipython2",
   "version": "2.7.15"
  }
 },
 "nbformat": 4,
 "nbformat_minor": 2
}
