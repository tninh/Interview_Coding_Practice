{
 "cells": [
  {
   "cell_type": "code",
   "execution_count": 65,
   "metadata": {},
   "outputs": [],
   "source": [
    "def areMetaString(str1, str2):\n",
    "    \n",
    "    if len(str1) != len(str2):\n",
    "        return False\n",
    "    else:\n",
    "        countUnmatched = 0\n",
    "        unMatchedIndex = []\n",
    "        for i in range(len(str1)):\n",
    "            if str1[i] != str2[i] and countUnmatched <=2:\n",
    "                countUnmatched  = countUnmatched + 1\n",
    "                unMatchedIndex.append(i)\n",
    "            elif countUnmatched > 2: \n",
    "                return False\n",
    "        str1_list = list(str1)\n",
    "        #print unMatchedIndex\n",
    "        temp = str1_list[unMatchedIndex[0]]\n",
    "        str1_list[unMatchedIndex[0]] = str1_list[unMatchedIndex[1]]\n",
    "        str1_list[unMatchedIndex[1]]  = temp\n",
    "        #print str1_list\n",
    "        str1 = \"\".join(str1_list)\n",
    "        #print type(str1)\n",
    "        #print type(str2)\n",
    "        if str1 == str2: \n",
    "            #print str1\n",
    "            #print str2\n",
    "            return True "
   ]
  },
  {
   "cell_type": "code",
   "execution_count": 40,
   "metadata": {},
   "outputs": [
    {
     "name": "stdout",
     "output_type": "stream",
     "text": [
      "[0, 3]\n",
      "['k', 'e', 'e', 'g', 's']\n",
      "<type 'str'>\n",
      "<type 'str'>\n",
      "keegs\n",
      "keegs\n"
     ]
    },
    {
     "data": {
      "text/plain": [
       "True"
      ]
     },
     "execution_count": 40,
     "metadata": {},
     "output_type": "execute_result"
    }
   ],
   "source": [
    "str1 = 'geeks'\n",
    "str2 = 'keegs'\n",
    "areMetaString(str1, str2)"
   ]
  },
  {
   "cell_type": "code",
   "execution_count": 66,
   "metadata": {},
   "outputs": [
    {
     "data": {
      "text/plain": [
       "True"
      ]
     },
     "execution_count": 66,
     "metadata": {},
     "output_type": "execute_result"
    }
   ],
   "source": [
    "a = 'Converse'\n",
    "b = 'Conserve'\n",
    "areMetaString(a, b)"
   ]
  },
  {
   "cell_type": "code",
   "execution_count": 61,
   "metadata": {},
   "outputs": [],
   "source": [
    "def generateMatrix(n):\n",
    "    A, lo = [], n*n+1\n",
    "    while lo > 1:\n",
    "        print lo\n",
    "        #print hi\n",
    "        lo, hi = lo - len(A), lo\n",
    "        print hi\n",
    "        A = [range(lo, hi)] + zip(*A[::-1])\n",
    "        print A[::-1]\n",
    "        print \"zip\"\n",
    "        print zip(*A[::-1])\n",
    "        print A\n",
    "    return A"
   ]
  },
  {
   "cell_type": "code",
   "execution_count": 62,
   "metadata": {},
   "outputs": [
    {
     "name": "stdout",
     "output_type": "stream",
     "text": [
      "10\n",
      "10\n",
      "[[]]\n",
      "zip\n",
      "[]\n",
      "[[]]\n",
      "10\n",
      "10\n",
      "[[9]]\n",
      "zip\n",
      "[(9,)]\n",
      "[[9]]\n",
      "9\n",
      "9\n",
      "[(9,), [8]]\n",
      "zip\n",
      "[(9, 8)]\n",
      "[[8], (9,)]\n",
      "8\n",
      "8\n",
      "[(9, 8), [6, 7]]\n",
      "zip\n",
      "[(9, 6), (8, 7)]\n",
      "[[6, 7], (9, 8)]\n",
      "6\n",
      "6\n",
      "[(8, 7), (9, 6), [4, 5]]\n",
      "zip\n",
      "[(8, 9, 4), (7, 6, 5)]\n",
      "[[4, 5], (9, 6), (8, 7)]\n",
      "4\n",
      "4\n",
      "[(7, 6, 5), (8, 9, 4), [1, 2, 3]]\n",
      "zip\n",
      "[(7, 8, 1), (6, 9, 2), (5, 4, 3)]\n",
      "[[1, 2, 3], (8, 9, 4), (7, 6, 5)]\n"
     ]
    },
    {
     "data": {
      "text/plain": [
       "[[1, 2, 3], (8, 9, 4), (7, 6, 5)]"
      ]
     },
     "execution_count": 62,
     "metadata": {},
     "output_type": "execute_result"
    }
   ],
   "source": [
    "generateMatrix(3)"
   ]
  },
  {
   "cell_type": "code",
   "execution_count": null,
   "metadata": {},
   "outputs": [],
   "source": []
  }
 ],
 "metadata": {
  "kernelspec": {
   "display_name": "Python 2",
   "language": "python",
   "name": "python2"
  },
  "language_info": {
   "codemirror_mode": {
    "name": "ipython",
    "version": 2
   },
   "file_extension": ".py",
   "mimetype": "text/x-python",
   "name": "python",
   "nbconvert_exporter": "python",
   "pygments_lexer": "ipython2",
   "version": "2.7.15"
  }
 },
 "nbformat": 4,
 "nbformat_minor": 2
}
