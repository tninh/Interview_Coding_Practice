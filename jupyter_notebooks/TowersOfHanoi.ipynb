{
 "cells": [
  {
   "cell_type": "code",
   "execution_count": null,
   "metadata": {},
   "outputs": [],
   "source": [
    "def towersofHanoi(n, X = 0, Y = 2, Z = 1):\n",
    "    tempList =[]\n",
    "    if n == 1: \n",
    "        a = Stack(1)\n",
    "        a.pop(element)\n",
    "        \n",
    "#     if n == 2: \n",
    "#         a = Stack(2)\n",
    "#         b = a.pop(element)\n",
    "#         tempList.append()\n",
    "#         push(Z,tempList[0])\n",
    "        \n",
    "#     else: \n",
    "#         towersofHanoi(2, X = 0, Y = 2, Z = 1)\n",
    "#         towersofHanoi(1, X = 0, Y = 2, Z = 1) \n",
    "    else: \n",
    "        f(n - 1, X = 0, Y = 1, Z = 2, stack)\n",
    "        f(1, X = 0, Y = 2, Z = 1, stack)\n",
    "        f(n - 1, X = 1, Y= 2, Z = 0, stack)"
   ]
  }
 ],
 "metadata": {
  "kernelspec": {
   "display_name": "Python 2",
   "language": "python",
   "name": "python2"
  },
  "language_info": {
   "codemirror_mode": {
    "name": "ipython",
    "version": 2
   },
   "file_extension": ".py",
   "mimetype": "text/x-python",
   "name": "python",
   "nbconvert_exporter": "python",
   "pygments_lexer": "ipython2",
   "version": "2.7.15"
  }
 },
 "nbformat": 4,
 "nbformat_minor": 2
}
