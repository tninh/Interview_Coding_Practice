{
 "cells": [
  {
   "cell_type": "code",
   "execution_count": 6,
   "metadata": {},
   "outputs": [],
   "source": [
    "from linkedlist import LinkedList\n",
    "def remove_dups(ll):\n",
    "    if ll.head is None:\n",
    "        return\n",
    "\n",
    "    current = ll.head\n",
    "    seen = set([current.value])\n",
    "    while current.next:\n",
    "        if current.next.value in seen:\n",
    "            current.next = current.next.next\n",
    "        else:\n",
    "            seen.add(current.next.value)\n",
    "            current = current.next\n",
    "\n",
    "    return ll\n",
    "\n",
    "\n",
    "def remove_dups_followup(ll):\n",
    "    if ll.head is None:\n",
    "        return\n",
    "\n",
    "    current = ll.head\n",
    "    while current:\n",
    "        runner = current\n",
    "        while runner.next:\n",
    "            if runner.next.value == current.value:\n",
    "                runner.next = runner.next.next\n",
    "            else:\n",
    "                runner = runner.next\n",
    "        current = current.next\n",
    "\n",
    "    return ll.head"
   ]
  },
  {
   "cell_type": "code",
   "execution_count": 27,
   "metadata": {},
   "outputs": [],
   "source": [
    "class Element(object):\n",
    "    def __init__(self, value):\n",
    "        self.value = value\n",
    "        self.next = None\n",
    "        \n",
    "class LinkedList(object):\n",
    "    def __init__(self, head=None):\n",
    "        self.head = head\n",
    "        \n",
    "    def printList(self):\n",
    "        current = self.head\n",
    "        while current: \n",
    "            print current.value\n",
    "            current = current.next\n",
    "            \n",
    "    def append(self, new_element):\n",
    "        current = self.head\n",
    "        if self.head:\n",
    "            while current.next:\n",
    "                current = current.next\n",
    "            current.next = new_element\n",
    "        else:\n",
    "            self.head = new_element\n",
    "            \n",
    "    def get_position(self, position):\n",
    "        \"\"\"Get an element from a particular position.\n",
    "        Assume the first position is \"1\".\n",
    "        Return \"None\" if position is not in the list.\"\"\"\n",
    "        count = 1\n",
    "        current = self.head\n",
    "        # while current.next:\n",
    "        #     if count < position: \n",
    "        #         current = current.next\n",
    "        #     count = count + 1\n",
    "        #     return current\n",
    "        if position < 1: \n",
    "            return None\n",
    "        while current and count <= position: \n",
    "            if count == position: \n",
    "                return current\n",
    "            current = current.next\n",
    "            count += 1\n",
    "        return None\n",
    "    \n",
    "    def insert(self, new_element, position):\n",
    "        \"\"\"Insert a new node at the given position.\n",
    "        Assume the first position is \"1\".\n",
    "        Inserting at position 3 means between\n",
    "        the 2nd and 3rd elements.\"\"\"\n",
    "        current = self.head\n",
    "        count = 1\n",
    "        if position == 1: \n",
    "            new_element.next = self.head\n",
    "            self.head = new_element\n",
    "        else: \n",
    "            while current and count < position: \n",
    "                if count == position - 1: \n",
    "                    new_element.next = current.next\n",
    "                    current.next = new_element\n",
    "                current = current.next\n",
    "                count += 1\n",
    "    \n",
    "    def delete(self, value):\n",
    "        \"\"\"Delete the first node with a given value.\"\"\"\n",
    "        current = self.head\n",
    "        #count = 1\n",
    "        previous = None\n",
    "        while current.value != value and current.next:\n",
    "            previous = current\n",
    "            current = current.next\n",
    "        #previous.next = current.next\n",
    "        if current.value == value: \n",
    "            if previous: \n",
    "                previous.next = current.next\n",
    "            else: \n",
    "                self.head = current.next"
   ]
  },
  {
   "cell_type": "code",
   "execution_count": 28,
   "metadata": {},
   "outputs": [],
   "source": [
    "e1 = Element(1)\n",
    "e2 = Element(2)\n",
    "e3 = Element(3)\n",
    "e4 = Element(4)\n",
    "e5 = Element(4)\n",
    "# Start setting up a LinkedList\n",
    "ll = LinkedList(e1)\n",
    "ll.append(e2)\n",
    "ll.append(e3)\n",
    "ll.append(e4)\n",
    "ll.append(e5)"
   ]
  },
  {
   "cell_type": "code",
   "execution_count": 29,
   "metadata": {},
   "outputs": [
    {
     "name": "stdout",
     "output_type": "stream",
     "text": [
      "1\n",
      "2\n",
      "3\n",
      "4\n",
      "4\n"
     ]
    }
   ],
   "source": [
    "ll.printList()"
   ]
  },
  {
   "cell_type": "code",
   "execution_count": 30,
   "metadata": {},
   "outputs": [
    {
     "data": {
      "text/plain": [
       "<__main__.LinkedList at 0x115a459d0>"
      ]
     },
     "execution_count": 30,
     "metadata": {},
     "output_type": "execute_result"
    }
   ],
   "source": [
    "remove_dups(ll)"
   ]
  },
  {
   "cell_type": "code",
   "execution_count": 31,
   "metadata": {},
   "outputs": [
    {
     "name": "stdout",
     "output_type": "stream",
     "text": [
      "1\n",
      "2\n",
      "3\n",
      "4\n"
     ]
    }
   ],
   "source": [
    "ll.printList()"
   ]
  },
  {
   "cell_type": "code",
   "execution_count": null,
   "metadata": {},
   "outputs": [],
   "source": []
  }
 ],
 "metadata": {
  "kernelspec": {
   "display_name": "Python 2",
   "language": "python",
   "name": "python2"
  },
  "language_info": {
   "codemirror_mode": {
    "name": "ipython",
    "version": 2
   },
   "file_extension": ".py",
   "mimetype": "text/x-python",
   "name": "python",
   "nbconvert_exporter": "python",
   "pygments_lexer": "ipython2",
   "version": "2.7.15"
  }
 },
 "nbformat": 4,
 "nbformat_minor": 2
}
