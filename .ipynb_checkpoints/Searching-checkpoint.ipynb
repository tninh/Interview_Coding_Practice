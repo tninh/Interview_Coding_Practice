{
 "cells": [
  {
   "cell_type": "markdown",
   "metadata": {},
   "source": [
    "### Binary Search"
   ]
  },
  {
   "cell_type": "code",
   "execution_count": 3,
   "metadata": {},
   "outputs": [],
   "source": [
    "def binarySearch(arr, l, r, x):\n",
    "    if r < l: \n",
    "        return -1\n",
    "    elif r >= l:\n",
    "        mid = l + (r - 1)/2\n",
    "        if arr[mid] < x: \n",
    "            return binarySearch(arr, mid + 1, r, x)\n",
    "        elif arr[mid] > x: \n",
    "            return binarySearch(arr, l, mid - 1, x)\n",
    "        else: \n",
    "            return mid\n",
    "    else:\n",
    "        return -1"
   ]
  },
  {
   "cell_type": "code",
   "execution_count": 4,
   "metadata": {},
   "outputs": [
    {
     "name": "stdout",
     "output_type": "stream",
     "text": [
      "5\n",
      "Elapsed Time:0.0002121925354\n"
     ]
    }
   ],
   "source": [
    "arr = [1, 2, 6, 8, 9, 19, 20]\n",
    "import time\n",
    "start = time.time()\n",
    "index = binarySearch(arr, 0, len(arr) - 1, 19)\n",
    "end = time.time()\n",
    "print index\n",
    "print(\"Elapsed Time:{}\".format(end - start))"
   ]
  },
  {
   "cell_type": "markdown",
   "metadata": {},
   "source": [
    "### Iterative Solution"
   ]
  },
  {
   "cell_type": "code",
   "execution_count": 9,
   "metadata": {},
   "outputs": [],
   "source": [
    "def iBinarySearch(arr, l, r, x):\n",
    "    while l <= r: \n",
    "        mid = l + (r-1)/2\n",
    "        if arr[mid] == x:\n",
    "            return mid\n",
    "        elif arr[mid] < x:\n",
    "            l = mid + 1\n",
    "        else: \n",
    "            r = mid - 1\n",
    "    return -1"
   ]
  },
  {
   "cell_type": "code",
   "execution_count": 16,
   "metadata": {},
   "outputs": [
    {
     "name": "stdout",
     "output_type": "stream",
     "text": [
      "5\n",
      "Elapse Time: 0\n"
     ]
    }
   ],
   "source": [
    "start = time.time()\n",
    "xindex = iBinarySearch(arr, 0, len(arr) - 1, 19)\n",
    "end = time.time()\n",
    "print xindex\n",
    "print(\"Elapse Time: %d\" % (end - start))"
   ]
  },
  {
   "cell_type": "code",
   "execution_count": 20,
   "metadata": {},
   "outputs": [],
   "source": [
    "def selfDividingNumbers(left, right):\n",
    "    \"\"\"\n",
    "    :type left: int\n",
    "    :type right: int\n",
    "    :rtype: List[int]\n",
    "    \"\"\"\n",
    "    sdn = []\n",
    "    valid = True\n",
    "    for i in range(left, right + 1):\n",
    "        strTemp = str(i)\n",
    "        print i\n",
    "        if '0' in strTemp: \n",
    "            continue\n",
    "        elif '0' not in strTemp:\n",
    "            for j in strTemp:\n",
    "                #print j\n",
    "                if i % int(j) > 0:\n",
    "                    valid = False\n",
    "                    break\n",
    "#         else: \n",
    "# #             valid = False\n",
    "        if valid == True: \n",
    "            sdn.append(i)\n",
    "        else: \n",
    "            valid = True\n",
    "    return sdn"
   ]
  },
  {
   "cell_type": "code",
   "execution_count": null,
   "metadata": {},
   "outputs": [],
   "source": [
    "def bfs(start_node_num):\n",
    "    node = node.start_node_num\n",
    "    queue = node\n",
    "    ret_list = []\n",
    "    def enqueue(n, q = queue):\n",
    "        n.visited = true\n",
    "        q.append(n)\n",
    "    def unvisited_node(n, e):\n",
    "        "
   ]
  },
  {
   "cell_type": "code",
   "execution_count": null,
   "metadata": {},
   "outputs": [],
   "source": []
  }
 ],
 "metadata": {
  "kernelspec": {
   "display_name": "Python 2",
   "language": "python",
   "name": "python2"
  },
  "language_info": {
   "codemirror_mode": {
    "name": "ipython",
    "version": 2
   },
   "file_extension": ".py",
   "mimetype": "text/x-python",
   "name": "python",
   "nbconvert_exporter": "python",
   "pygments_lexer": "ipython2",
   "version": "2.7.15"
  }
 },
 "nbformat": 4,
 "nbformat_minor": 2
}
