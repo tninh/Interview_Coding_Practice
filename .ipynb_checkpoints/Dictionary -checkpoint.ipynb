{
 "cells": [
  {
   "cell_type": "code",
   "execution_count": 38,
   "metadata": {},
   "outputs": [
    {
     "name": "stdout",
     "output_type": "stream",
     "text": [
      "Atlanta\n",
      "Mountain View\n"
     ]
    }
   ],
   "source": [
    "locations = {}\n",
    "locations = {'North America': {'USA': ['Mountain View']}}\n",
    "locations['Asia'] = {'India':['Bangalore']}\n",
    "locations['North America']['USA'].append('Atlanta')\n",
    "locations['Africa'] = {'Egypt': ['Cairo']}\n",
    "locations['Asia']['China'] = ['Shanghai']\n",
    "sorted_cities  = sorted(locations['North America']['USA'])\n",
    "for s in sorted_cities: \n",
    "    print s"
   ]
  },
  {
   "cell_type": "code",
   "execution_count": 39,
   "metadata": {},
   "outputs": [
    {
     "name": "stdout",
     "output_type": "stream",
     "text": [
      "{'North America': {'USA': ['Mountain View', 'Atlanta']}, 'Africa': {'Egypt': ['Cairo']}, 'Asia': {'China': ['Shanghai'], 'India': ['Bangalore']}}\n"
     ]
    }
   ],
   "source": [
    "print locations"
   ]
  },
  {
   "cell_type": "code",
   "execution_count": 40,
   "metadata": {},
   "outputs": [],
   "source": [
    "asia_cities = []\n",
    "for countries, cities in locations['Asia'].iteritems():\n",
    "    city_country = cities[0] + '-' + countries\n",
    "    asia_cities.append(city_country)\n",
    "sorted_asia = sorted(asia_cities)"
   ]
  },
  {
   "cell_type": "code",
   "execution_count": 41,
   "metadata": {},
   "outputs": [
    {
     "name": "stdout",
     "output_type": "stream",
     "text": [
      "Bangalore-India\n",
      "Shanghai-China\n"
     ]
    }
   ],
   "source": [
    "for s in sorted_asia: \n",
    "    print s"
   ]
  },
  {
   "cell_type": "code",
   "execution_count": 24,
   "metadata": {},
   "outputs": [
    {
     "name": "stdout",
     "output_type": "stream",
     "text": [
      "S - China\n"
     ]
    }
   ],
   "source": [
    "asia_cities = []\n",
    "for countries, cities in locations['Asia'].iteritems():\n",
    "    city_country = cities[0] + \" - \" + countries \n",
    "    asia_cities.append(city_country)\n",
    "asia_sorted = sorted(asia_cities)\n",
    "for city in asia_sorted:\n",
    "    print city"
   ]
  },
  {
   "cell_type": "code",
   "execution_count": 30,
   "metadata": {},
   "outputs": [],
   "source": [
    "locations = {}\n",
    "locations = {'North America': {'USA': ['Mountain View']}}\n",
    "locations['North America']['USA'].append('Atlanta')\n",
    "locations['Asia'] = {'India': ['Bangalore']}\n",
    "locations['Asia']['China'] = ['Shanghai']\n",
    "locations['Africa'] = {'Egypt': ['Cairo']}"
   ]
  },
  {
   "cell_type": "code",
   "execution_count": 31,
   "metadata": {},
   "outputs": [
    {
     "name": "stdout",
     "output_type": "stream",
     "text": [
      "{'North America': {'USA': ['Mountain View', 'Atlanta']}, 'Africa': {'Egypt': ['Cairo']}, 'Asia': {'China': ['Shanghai'], 'India': ['Bangalore']}}\n"
     ]
    }
   ],
   "source": [
    "print locations"
   ]
  },
  {
   "cell_type": "code",
   "execution_count": 26,
   "metadata": {},
   "outputs": [
    {
     "name": "stdout",
     "output_type": "stream",
     "text": [
      "Bangalore - India\n",
      "Shanghai - China\n"
     ]
    }
   ],
   "source": [
    "asia_cities = []\n",
    "for countries, cities in locations['Asia'].iteritems():\n",
    "    city_country = cities[0] + \" - \" + countries \n",
    "    asia_cities.append(city_country)\n",
    "asia_sorted = sorted(asia_cities)\n",
    "for city in asia_sorted:\n",
    "    print city"
   ]
  },
  {
   "cell_type": "code",
   "execution_count": 42,
   "metadata": {},
   "outputs": [],
   "source": [
    "string = 'tri'\n",
    "a = [None] * 10\n",
    "a[0] = [string]"
   ]
  },
  {
   "cell_type": "code",
   "execution_count": 54,
   "metadata": {},
   "outputs": [
    {
     "name": "stdout",
     "output_type": "stream",
     "text": [
      "UDACITY\n"
     ]
    }
   ],
   "source": [
    "# def store(self, string):\n",
    "#         \"\"\"Input a string that's stored in \n",
    "#         the table.\"\"\"\n",
    "#         hash_value = self.calculate_hash_value(string)\n",
    "#         self.table[hash_value] = [string]\n",
    "\n",
    "#     def lookup(self, string):\n",
    "#         \"\"\"Return the hash value if the\n",
    "#         string is already in the table.\n",
    "#         Return -1 otherwise.\"\"\"\n",
    "#         hash_value = self.calculate_hash_value(string)\n",
    "#         if self.table[hash_value] == string:\n",
    "#             return hash_value\n",
    "#         return -1\n",
    "    \n",
    "#     def calculate_hash_value(self, string):\n",
    "#         \"\"\"Helper function to calulate a\n",
    "#         hash value from a string.\"\"\"\n",
    "#         if len(string) > 1:\n",
    "#             hash_value = (ord(string[0]) * 100 + ord(string[1]))\n",
    "#             return hash_value\n",
    "#         return -1\n",
    "a = {}\n",
    "a ={8568:['UDACITY']}\n",
    "b = 'UDACITY'\n",
    "print a[8568][0]"
   ]
  },
  {
   "cell_type": "code",
   "execution_count": 47,
   "metadata": {},
   "outputs": [
    {
     "data": {
      "text/plain": [
       "'UDACITY'"
      ]
     },
     "execution_count": 47,
     "metadata": {},
     "output_type": "execute_result"
    }
   ],
   "source": [
    "a[0]"
   ]
  },
  {
   "cell_type": "code",
   "execution_count": 55,
   "metadata": {},
   "outputs": [
    {
     "name": "stdout",
     "output_type": "stream",
     "text": [
      "2 3\n"
     ]
    }
   ],
   "source": [
    "a = [[1, 0, 1], [1, 1, 1]]\n",
    "print len(a), len(a[0])"
   ]
  },
  {
   "cell_type": "code",
   "execution_count": null,
   "metadata": {},
   "outputs": [],
   "source": []
  }
 ],
 "metadata": {
  "kernelspec": {
   "display_name": "Python 2",
   "language": "python",
   "name": "python2"
  },
  "language_info": {
   "codemirror_mode": {
    "name": "ipython",
    "version": 2
   },
   "file_extension": ".py",
   "mimetype": "text/x-python",
   "name": "python",
   "nbconvert_exporter": "python",
   "pygments_lexer": "ipython2",
   "version": "2.7.15"
  }
 },
 "nbformat": 4,
 "nbformat_minor": 2
}
