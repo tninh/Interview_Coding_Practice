{
 "cells": [
  {
   "cell_type": "code",
   "execution_count": 1,
   "metadata": {},
   "outputs": [],
   "source": [
    "n = 1\n",
    "def fact(n):\n",
    "    if n == 1:\n",
    "        return 1\n",
    "    else:\n",
    "        return n * fact(n - 1)"
   ]
  },
  {
   "cell_type": "code",
   "execution_count": 2,
   "metadata": {},
   "outputs": [
    {
     "data": {
      "text/plain": [
       "6"
      ]
     },
     "execution_count": 2,
     "metadata": {},
     "output_type": "execute_result"
    }
   ],
   "source": [
    "fact(3)"
   ]
  },
  {
   "cell_type": "code",
   "execution_count": 3,
   "metadata": {},
   "outputs": [
    {
     "data": {
      "text/plain": [
       "24"
      ]
     },
     "execution_count": 3,
     "metadata": {},
     "output_type": "execute_result"
    }
   ],
   "source": [
    "fact(4)"
   ]
  },
  {
   "cell_type": "code",
   "execution_count": 1,
   "metadata": {},
   "outputs": [],
   "source": [
    "origin_str = 'hello world'\n",
    "def reverseString(origin_str):\n",
    "    reverseStr=''\n",
    "    if len(origin_str) == 1:\n",
    "        reverseStr = origin_str\n",
    "    else:\n",
    "        print origin_str\n",
    "        reverseStr = origin_str[-1] + str(reverseString(origin_str[:-1]))\n",
    "    return reverseStr"
   ]
  },
  {
   "cell_type": "code",
   "execution_count": 2,
   "metadata": {},
   "outputs": [
    {
     "name": "stdout",
     "output_type": "stream",
     "text": [
      "banana\n",
      "banan\n",
      "bana\n",
      "ban\n",
      "ba\n"
     ]
    }
   ],
   "source": [
    "rs = reverseString('banana')"
   ]
  },
  {
   "cell_type": "code",
   "execution_count": 3,
   "metadata": {},
   "outputs": [
    {
     "data": {
      "text/plain": [
       "'hello worl'"
      ]
     },
     "execution_count": 3,
     "metadata": {},
     "output_type": "execute_result"
    }
   ],
   "source": [
    "origin_str = 'hello world'\n",
    "origin_str[:-1]"
   ]
  },
  {
   "cell_type": "code",
   "execution_count": 1,
   "metadata": {},
   "outputs": [],
   "source": [
    "# def get_position(self, position):\n",
    "#         \"\"\"Get an element from a particular position.\n",
    "#         Assume the first position is \"1\".\n",
    "#         Return \"None\" if position is not in the list.\"\"\"\n",
    "#         count = 1\n",
    "#         current = self.head\n",
    "#         # while current.next:\n",
    "#         #     if count < position: \n",
    "#         #         current = current.next\n",
    "#         #     count = count + 1\n",
    "#         #     return current\n",
    "#         if position < 1: \n",
    "#             return None\n",
    "#         while current and count <= position: \n",
    "#             if count == position: \n",
    "#                 return current\n",
    "#             current = current.next\n",
    "#             count += 1\n",
    "#         return None"
   ]
  },
  {
   "cell_type": "code",
   "execution_count": null,
   "metadata": {},
   "outputs": [],
   "source": [
    "# def insert(self, new_element, position):\n",
    "#         \"\"\"Insert a new node at the given position.\n",
    "#         Assume the first position is \"1\".\n",
    "#         Inserting at position 3 means between\n",
    "#         the 2nd and 3rd elements.\"\"\"\n",
    "#         count = 1\n",
    "        \n",
    "#         current = self.head\n",
    "#         #previous = None\n",
    "#         if position > 1: \n",
    "#             while current and count < position:\n",
    "#                 if count == position - 1: \n",
    "#                     #print previous\n",
    "#                     # previous.next = new_element\n",
    "#                     # current = current.next\n",
    "#                     new_element.next = current\n",
    "#                     current.next = new_element\n",
    "#                 # if count == position - 1:\n",
    "#                 #     current.next = new_element\n",
    "#                 #previous = current\n",
    "#                 current = current.next\n",
    "#                 count += 1\n",
    "#         elif position == 1:\n",
    "#             new_element.next = self.head\n",
    "#             self.head = new_element"
   ]
  }
 ],
 "metadata": {
  "kernelspec": {
   "display_name": "Python 2",
   "language": "python",
   "name": "python2"
  },
  "language_info": {
   "codemirror_mode": {
    "name": "ipython",
    "version": 2
   },
   "file_extension": ".py",
   "mimetype": "text/x-python",
   "name": "python",
   "nbconvert_exporter": "python",
   "pygments_lexer": "ipython2",
   "version": "2.7.15"
  }
 },
 "nbformat": 4,
 "nbformat_minor": 2
}
